{
 "cells": [
  {
   "cell_type": "code",
   "execution_count": 35,
   "id": "b521592d",
   "metadata": {},
   "outputs": [],
   "source": [
    "def pontoFixo(func,  x0, tol):\n",
    "    x = func(x0)\n",
    "    if abs(x - x0) < tol:\n",
    "        return x\n",
    "    return pontoFixo(func, x, tol) "
   ]
  },
  {
   "cell_type": "code",
   "execution_count": 36,
   "id": "6bb84b40",
   "metadata": {},
   "outputs": [
    {
     "name": "stdout",
     "output_type": "stream",
     "text": [
      "(-x**2 + x*(2*x + 1.96) - 1.96*x + 2.08)/(2*x + 1.96)\n"
     ]
    }
   ],
   "source": [
    "# Encontrar a phi(x)\n",
    "from sympy import *\n",
    "\n",
    "x = Symbol('x')\n",
    "\n",
    "def f(x): return x**2 + 1.96*x - 2.08           # f(x)\n",
    "def df(x): return f(x).diff(x)                  # f'(x)\n",
    "def phi(x): return (x * df(x) - f(x)) / df(x)   # (x * f'(x) - f(x)) / f'(x)\n",
    "\n",
    "print(phi(x))"
   ]
  },
  {
   "cell_type": "code",
   "execution_count": 37,
   "id": "313279ed",
   "metadata": {},
   "outputs": [],
   "source": [
    "# ponto inicial\n",
    "x0 = 1\n",
    "\n",
    "# erro\n",
    "tol = 10**-10\n",
    "\n",
    "# phi(x) = (x * f'(x) - f(x)) / f'(x) = x\n",
    "def func(x): return (-x**2 + x*(2*x + 1.96) - 1.96*x + 2.08) / (2*x + 1.96)"
   ]
  },
  {
   "cell_type": "code",
   "execution_count": 41,
   "id": "aad786fa",
   "metadata": {},
   "outputs": [
    {
     "name": "stdout",
     "output_type": "stream",
     "text": [
      "x* = 0.7636742815101677\n",
      "f(x*) = -4.440892098500626e-16\n",
      "phi(x*) = 0.7636742815101678\n"
     ]
    }
   ],
   "source": [
    "x = pontoFixo(func, x0, tol)\n",
    "print(\"x* = {}\".format(x))\n",
    "print(\"f(x*) = {}\".format(f(x)))\n",
    "print(\"phi(x*) = {}\".format(func(x)))"
   ]
  }
 ],
 "metadata": {
  "kernelspec": {
   "display_name": "Python 3",
   "language": "python",
   "name": "python3"
  },
  "language_info": {
   "codemirror_mode": {
    "name": "ipython",
    "version": 3
   },
   "file_extension": ".py",
   "mimetype": "text/x-python",
   "name": "python",
   "nbconvert_exporter": "python",
   "pygments_lexer": "ipython3",
   "version": "3.9.12"
  }
 },
 "nbformat": 4,
 "nbformat_minor": 5
}
