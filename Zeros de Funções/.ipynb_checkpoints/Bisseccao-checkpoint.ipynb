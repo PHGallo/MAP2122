{
 "cells": [
  {
   "cell_type": "code",
   "execution_count": 3,
   "id": "d86246a7",
   "metadata": {},
   "outputs": [],
   "source": [
    "import numpy as np\n",
    "\n",
    "def bisseccao(f, a, b, tol): \n",
    "    # O método da bissecção é um método de encontrar raízes que se aplica a  \n",
    "    # qualquer função contínua no intervalo [a,b] para a qual f(a) e f(b) possuem \n",
    "    # sinais opostos.\n",
    "    # O método consiste em bissetar repetidamente o intervalo definido por esses\n",
    "    # valores e, em seguida, selecionar o subintervalo no qual a função muda de\n",
    "    # sinal e, portanto, deve conter uma raíz.\n",
    "    \n",
    "    # verifica se possui uma raíz no intervalo [a,b]\n",
    "    if np.sign(f(a)) == np.sign(f(b)):\n",
    "        print(\"Não há raíz no intervalo [a, b]\")\n",
    "        return\n",
    "        \n",
    "    # ponto médio\n",
    "    m = (a + b)/2\n",
    "    \n",
    "    # eror\n",
    "    erro = (b - a)/2\n",
    "    \n",
    "    if erro < tol:\n",
    "        # critério de parada e reporta m como uma raíz\n",
    "        return m, erro\n",
    "    elif np.sign(f(a)) == np.sign(f(m)):\n",
    "        # caso f(m) * f(b) < 0, então a = m\n",
    "        return bisseccao(f, m, b, tol)\n",
    "    elif np.sign(f(b)) == np.sign(f(m)):\n",
    "        # caso f(a) * f(m) < 0, então b = m\n",
    "        return bisseccao(f, a, m, tol)"
   ]
  },
  {
   "cell_type": "code",
   "execution_count": 5,
   "id": "99880b5c",
   "metadata": {},
   "outputs": [
    {
     "name": "stdout",
     "output_type": "stream",
     "text": [
      "Não há raíz no intervalo [a, b]\n"
     ]
    },
    {
     "ename": "TypeError",
     "evalue": "cannot unpack non-iterable NoneType object",
     "output_type": "error",
     "traceback": [
      "\u001b[1;31m---------------------------------------------------------------------------\u001b[0m",
      "\u001b[1;31mTypeError\u001b[0m                                 Traceback (most recent call last)",
      "Input \u001b[1;32mIn [5]\u001b[0m, in \u001b[0;36m<cell line: 3>\u001b[1;34m()\u001b[0m\n\u001b[0;32m      1\u001b[0m f \u001b[38;5;241m=\u001b[39m \u001b[38;5;28;01mlambda\u001b[39;00m x: x\u001b[38;5;241m*\u001b[39m\u001b[38;5;241m*\u001b[39m\u001b[38;5;241m3\u001b[39m \u001b[38;5;241m-\u001b[39m \u001b[38;5;241m17\u001b[39m\n\u001b[1;32m----> 3\u001b[0m x, erro \u001b[38;5;241m=\u001b[39m bisseccao(f, \u001b[38;5;241m2.8\u001b[39m, \u001b[38;5;241m3\u001b[39m, \u001b[38;5;241m10\u001b[39m\u001b[38;5;241m*\u001b[39m\u001b[38;5;241m*\u001b[39m\u001b[38;5;241m-\u001b[39m\u001b[38;5;241m14\u001b[39m)\n\u001b[0;32m      4\u001b[0m \u001b[38;5;28mprint\u001b[39m(\u001b[38;5;124m\"\u001b[39m\u001b[38;5;124mx* = \u001b[39m\u001b[38;5;132;01m{}\u001b[39;00m\u001b[38;5;124m \u001b[39m\u001b[38;5;130;01m\\u00B1\u001b[39;00m\u001b[38;5;124m \u001b[39m\u001b[38;5;132;01m{}\u001b[39;00m\u001b[38;5;124m\"\u001b[39m\u001b[38;5;241m.\u001b[39mformat(x, erro))\n\u001b[0;32m      5\u001b[0m \u001b[38;5;28mprint\u001b[39m(\u001b[38;5;124m\"\u001b[39m\u001b[38;5;124mf(x*) = \u001b[39m\u001b[38;5;132;01m{}\u001b[39;00m\u001b[38;5;124m\"\u001b[39m\u001b[38;5;241m.\u001b[39mformat(f(x)))\n",
      "\u001b[1;31mTypeError\u001b[0m: cannot unpack non-iterable NoneType object"
     ]
    }
   ],
   "source": [
    "f = lambda x: x**3 - 17\n",
    "\n",
    "x, erro = bisseccao(f, 2.8, 3, 10**-14)\n",
    "print(\"x* = {} \\u00B1 {}\".format(x, erro))\n",
    "print(\"f(x*) = {}\".format(f(x)))"
   ]
  }
 ],
 "metadata": {
  "kernelspec": {
   "display_name": "Python 3",
   "language": "python",
   "name": "python3"
  },
  "language_info": {
   "codemirror_mode": {
    "name": "ipython",
    "version": 3
   },
   "file_extension": ".py",
   "mimetype": "text/x-python",
   "name": "python",
   "nbconvert_exporter": "python",
   "pygments_lexer": "ipython3",
   "version": "3.9.12"
  }
 },
 "nbformat": 4,
 "nbformat_minor": 5
}
