{
 "cells": [
  {
   "cell_type": "code",
   "execution_count": 16,
   "id": "d86246a7",
   "metadata": {},
   "outputs": [],
   "source": [
    "import numpy as np\n",
    "\n",
    "def bisseccao(f, a, b, tol): \n",
    "    # O método da bissecção é um método de encontrar raízes que se aplica a  \n",
    "    # qualquer função contínua no intervalo [a,b] para a qual f(a) e f(b) possuem \n",
    "    # sinais opostos.\n",
    "    # O método consiste em bissetar repetidamente o intervalo definido por esses\n",
    "    # valores e, em seguida, selecionar o subintervalo no qual a função muda de\n",
    "    # sinal e, portanto, deve conter uma raíz.\n",
    "        \n",
    "    # ponto médio\n",
    "    m = (a + b)/2\n",
    "    \n",
    "    # erro\n",
    "    erro = (b - a)/2\n",
    "    \n",
    "    if erro < tol:\n",
    "        # critério de parada e reporta m como uma raíz\n",
    "        return m, erro\n",
    "    elif np.sign(f(a)) == np.sign(f(m)):\n",
    "        # caso f(m) * f(b) < 0, então a = m\n",
    "        return bisseccao(f, m, b, tol)\n",
    "    elif np.sign(f(b)) == np.sign(f(m)):\n",
    "        # caso f(a) * f(m) < 0, então b = m\n",
    "        return bisseccao(f, a, m, tol)"
   ]
  },
  {
   "cell_type": "code",
   "execution_count": 19,
   "id": "99880b5c",
   "metadata": {},
   "outputs": [
    {
     "name": "stdout",
     "output_type": "stream",
     "text": [
      "x* = 2.571281590658238 ± 7.105427357601002e-15\n",
      "f(x*) = 4.973799150320701e-14\n"
     ]
    }
   ],
   "source": [
    "f = lambda x: x**3 - 17 # f(x)\n",
    "a, b = 2, 3             # intervalo [a, b]\n",
    "tol = 10**-14           # erro\n",
    "\n",
    "# verifica se possui uma raíz no intervalo [a,b]\n",
    "if np.sign(f(a)) == np.sign(f(b)):\n",
    "    print(\"Não há raíz no intervalo [{}, {}]\".format(a,b))\n",
    "else:\n",
    "    x, erro = bisseccao(f, a, b, tol)\n",
    "    print(\"x* = {} \\u00B1 {}\".format(x, erro))\n",
    "    print(\"f(x*) = {}\".format(f(x)))"
   ]
  }
 ],
 "metadata": {
  "kernelspec": {
   "display_name": "Python 3",
   "language": "python",
   "name": "python3"
  },
  "language_info": {
   "codemirror_mode": {
    "name": "ipython",
    "version": 3
   },
   "file_extension": ".py",
   "mimetype": "text/x-python",
   "name": "python",
   "nbconvert_exporter": "python",
   "pygments_lexer": "ipython3",
   "version": "3.9.12"
  }
 },
 "nbformat": 4,
 "nbformat_minor": 5
}
